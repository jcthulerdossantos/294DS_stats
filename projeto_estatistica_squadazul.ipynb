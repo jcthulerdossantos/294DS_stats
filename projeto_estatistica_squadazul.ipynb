{
 "cells": [
  {
   "cell_type": "code",
   "execution_count": 1,
   "metadata": {},
   "outputs": [],
   "source": [
    "import pandas as pd\n",
    "import numpy as np\n",
    "import matplotlib.pyplot as plt\n",
    "import random"
   ]
  },
  {
   "cell_type": "code",
   "execution_count": 2,
   "metadata": {},
   "outputs": [],
   "source": [
    "df = pd.read_csv('Family Income and Expenditure.csv', sep = ',')"
   ]
  },
  {
   "cell_type": "code",
   "execution_count": 3,
   "metadata": {},
   "outputs": [],
   "source": [
    "#df.info()"
   ]
  },
  {
   "cell_type": "code",
   "execution_count": 4,
   "metadata": {},
   "outputs": [],
   "source": [
    "#type object: considerado soma de 2 ou mais tipos de variável\n",
    "for item in list(df.columns.values):\n",
    "    if df[item].dtype == 'O':\n",
    "        df[item] = df[item].astype(str) #transformar type(object) para type(str) para nao gerar TypeError"
   ]
  },
  {
   "cell_type": "markdown",
   "metadata": {},
   "source": [
    "## Milestone 1"
   ]
  },
  {
   "cell_type": "markdown",
   "metadata": {},
   "source": [
    "#### Amostragem "
   ]
  },
  {
   "cell_type": "code",
   "execution_count": 5,
   "metadata": {},
   "outputs": [],
   "source": [
    "#AMOSTRA ALEATÓRIA SIMPLES (AAS)\n",
    "\n",
    "index_sample = []\n",
    "for i in range(100):\n",
    "    index_sample.append(random.randint(0,(len(df)+1)))\n",
    "    \n",
    "df_aas = df.loc[index_sample,:]"
   ]
  },
  {
   "cell_type": "code",
   "execution_count": 6,
   "metadata": {},
   "outputs": [],
   "source": [
    "#AMOSTRA SISTEMÁTICA\n",
    "\n",
    "df = df.sort_values(by = ['Total Household Income'],ascending = True).reset_index().drop(columns = ['index'])\n",
    "\n",
    "k = len(df)//100\n",
    "\n",
    "index_sample = []\n",
    "\n",
    "i = 0 #adicionar valor minimo\n",
    "for j in range(100):\n",
    "    index_sample.append(i)\n",
    "    i+=k\n",
    "    \n",
    "df_sist = df.loc[index_sample,:]"
   ]
  },
  {
   "cell_type": "markdown",
   "metadata": {},
   "source": [
    "#### Estatísticas Descritivas e Análise Visual"
   ]
  },
  {
   "cell_type": "code",
   "execution_count": 7,
   "metadata": {},
   "outputs": [],
   "source": [
    "quant_items = []\n",
    "quali_items = []\n",
    "\n",
    "for item in list(df.columns.values):\n",
    "    if df[item].dtype == 'O':\n",
    "        quali_items.append(item)\n",
    "    else:\n",
    "        quant_items.append(item)"
   ]
  },
  {
   "cell_type": "code",
   "execution_count": 8,
   "metadata": {},
   "outputs": [],
   "source": [
    "df_aas_quant = df_aas.drop(columns = quali_items).loc[:,quant_items[0:10]]\n",
    "df_sist_quant = df_sist.drop(columns = quali_items).loc[:,quant_items[0:10]]\n",
    "df_all_quant = df.drop(columns = quali_items).loc[:,quant_items[0:10]]\n",
    "\n",
    "describe_aas = df_aas_quant.describe().drop('count',axis = 0)\n",
    "describe_sist = df_sist_quant.describe().drop('count',axis = 0)\n",
    "describe_all = df_all_quant.describe().drop('count',axis = 0)"
   ]
  },
  {
   "cell_type": "code",
   "execution_count": 9,
   "metadata": {},
   "outputs": [
    {
     "data": {
      "text/html": [
       "<div>\n",
       "<style scoped>\n",
       "    .dataframe tbody tr th:only-of-type {\n",
       "        vertical-align: middle;\n",
       "    }\n",
       "\n",
       "    .dataframe tbody tr th {\n",
       "        vertical-align: top;\n",
       "    }\n",
       "\n",
       "    .dataframe thead th {\n",
       "        text-align: right;\n",
       "    }\n",
       "</style>\n",
       "<table border=\"1\" class=\"dataframe\">\n",
       "  <thead>\n",
       "    <tr style=\"text-align: right;\">\n",
       "      <th></th>\n",
       "      <th>Total Household Income</th>\n",
       "      <th>Total Food Expenditure</th>\n",
       "      <th>Agricultural Household indicator</th>\n",
       "      <th>Bread and Cereals Expenditure</th>\n",
       "      <th>Total Rice Expenditure</th>\n",
       "      <th>Meat Expenditure</th>\n",
       "      <th>Total Fish and  marine products Expenditure</th>\n",
       "      <th>Fruit Expenditure</th>\n",
       "      <th>Vegetables Expenditure</th>\n",
       "      <th>Restaurant and hotels Expenditure</th>\n",
       "    </tr>\n",
       "  </thead>\n",
       "  <tbody>\n",
       "    <tr>\n",
       "      <th>mean</th>\n",
       "      <td>2.479671e+05</td>\n",
       "      <td>81591.740000</td>\n",
       "      <td>0.40000</td>\n",
       "      <td>23337.500000</td>\n",
       "      <td>16423.520000</td>\n",
       "      <td>9584.610000</td>\n",
       "      <td>10612.520000</td>\n",
       "      <td>2545.220000</td>\n",
       "      <td>5013.960</td>\n",
       "      <td>14534.910000</td>\n",
       "    </tr>\n",
       "    <tr>\n",
       "      <th>std</th>\n",
       "      <td>2.741413e+05</td>\n",
       "      <td>41925.879002</td>\n",
       "      <td>0.68165</td>\n",
       "      <td>9944.116444</td>\n",
       "      <td>9029.107216</td>\n",
       "      <td>8756.453465</td>\n",
       "      <td>6932.686167</td>\n",
       "      <td>2537.573125</td>\n",
       "      <td>2890.698</td>\n",
       "      <td>18435.091248</td>\n",
       "    </tr>\n",
       "    <tr>\n",
       "      <th>min</th>\n",
       "      <td>5.455400e+04</td>\n",
       "      <td>28526.000000</td>\n",
       "      <td>0.00000</td>\n",
       "      <td>1998.000000</td>\n",
       "      <td>0.000000</td>\n",
       "      <td>0.000000</td>\n",
       "      <td>0.000000</td>\n",
       "      <td>155.000000</td>\n",
       "      <td>0.000</td>\n",
       "      <td>0.000000</td>\n",
       "    </tr>\n",
       "    <tr>\n",
       "      <th>25%</th>\n",
       "      <td>1.007292e+05</td>\n",
       "      <td>54674.000000</td>\n",
       "      <td>0.00000</td>\n",
       "      <td>16000.000000</td>\n",
       "      <td>11127.250000</td>\n",
       "      <td>4089.250000</td>\n",
       "      <td>5708.750000</td>\n",
       "      <td>1098.750000</td>\n",
       "      <td>3064.250</td>\n",
       "      <td>1650.000000</td>\n",
       "    </tr>\n",
       "    <tr>\n",
       "      <th>50%</th>\n",
       "      <td>1.387635e+05</td>\n",
       "      <td>68674.500000</td>\n",
       "      <td>0.00000</td>\n",
       "      <td>21966.500000</td>\n",
       "      <td>14455.000000</td>\n",
       "      <td>6781.000000</td>\n",
       "      <td>9076.500000</td>\n",
       "      <td>1925.500000</td>\n",
       "      <td>4392.000</td>\n",
       "      <td>8342.500000</td>\n",
       "    </tr>\n",
       "    <tr>\n",
       "      <th>75%</th>\n",
       "      <td>2.855348e+05</td>\n",
       "      <td>95188.750000</td>\n",
       "      <td>1.00000</td>\n",
       "      <td>29380.750000</td>\n",
       "      <td>20693.500000</td>\n",
       "      <td>12772.000000</td>\n",
       "      <td>14090.500000</td>\n",
       "      <td>2707.000000</td>\n",
       "      <td>6542.000</td>\n",
       "      <td>18940.000000</td>\n",
       "    </tr>\n",
       "    <tr>\n",
       "      <th>max</th>\n",
       "      <td>1.480400e+06</td>\n",
       "      <td>216683.000000</td>\n",
       "      <td>2.00000</td>\n",
       "      <td>59996.000000</td>\n",
       "      <td>54858.000000</td>\n",
       "      <td>48854.000000</td>\n",
       "      <td>43030.000000</td>\n",
       "      <td>18616.000000</td>\n",
       "      <td>13187.000</td>\n",
       "      <td>85998.000000</td>\n",
       "    </tr>\n",
       "  </tbody>\n",
       "</table>\n",
       "</div>"
      ],
      "text/plain": [
       "      Total Household Income  Total Food Expenditure  \\\n",
       "mean            2.479671e+05            81591.740000   \n",
       "std             2.741413e+05            41925.879002   \n",
       "min             5.455400e+04            28526.000000   \n",
       "25%             1.007292e+05            54674.000000   \n",
       "50%             1.387635e+05            68674.500000   \n",
       "75%             2.855348e+05            95188.750000   \n",
       "max             1.480400e+06           216683.000000   \n",
       "\n",
       "      Agricultural Household indicator  Bread and Cereals Expenditure  \\\n",
       "mean                           0.40000                   23337.500000   \n",
       "std                            0.68165                    9944.116444   \n",
       "min                            0.00000                    1998.000000   \n",
       "25%                            0.00000                   16000.000000   \n",
       "50%                            0.00000                   21966.500000   \n",
       "75%                            1.00000                   29380.750000   \n",
       "max                            2.00000                   59996.000000   \n",
       "\n",
       "      Total Rice Expenditure  Meat Expenditure  \\\n",
       "mean            16423.520000       9584.610000   \n",
       "std              9029.107216       8756.453465   \n",
       "min                 0.000000          0.000000   \n",
       "25%             11127.250000       4089.250000   \n",
       "50%             14455.000000       6781.000000   \n",
       "75%             20693.500000      12772.000000   \n",
       "max             54858.000000      48854.000000   \n",
       "\n",
       "      Total Fish and  marine products Expenditure  Fruit Expenditure  \\\n",
       "mean                                 10612.520000        2545.220000   \n",
       "std                                   6932.686167        2537.573125   \n",
       "min                                      0.000000         155.000000   \n",
       "25%                                   5708.750000        1098.750000   \n",
       "50%                                   9076.500000        1925.500000   \n",
       "75%                                  14090.500000        2707.000000   \n",
       "max                                  43030.000000       18616.000000   \n",
       "\n",
       "      Vegetables Expenditure  Restaurant and hotels Expenditure  \n",
       "mean                5013.960                       14534.910000  \n",
       "std                 2890.698                       18435.091248  \n",
       "min                    0.000                           0.000000  \n",
       "25%                 3064.250                        1650.000000  \n",
       "50%                 4392.000                        8342.500000  \n",
       "75%                 6542.000                       18940.000000  \n",
       "max                13187.000                       85998.000000  "
      ]
     },
     "execution_count": 9,
     "metadata": {},
     "output_type": "execute_result"
    }
   ],
   "source": [
    "describe_aas"
   ]
  },
  {
   "cell_type": "code",
   "execution_count": 10,
   "metadata": {},
   "outputs": [
    {
     "data": {
      "text/html": [
       "<div>\n",
       "<style scoped>\n",
       "    .dataframe tbody tr th:only-of-type {\n",
       "        vertical-align: middle;\n",
       "    }\n",
       "\n",
       "    .dataframe tbody tr th {\n",
       "        vertical-align: top;\n",
       "    }\n",
       "\n",
       "    .dataframe thead th {\n",
       "        text-align: right;\n",
       "    }\n",
       "</style>\n",
       "<table border=\"1\" class=\"dataframe\">\n",
       "  <thead>\n",
       "    <tr style=\"text-align: right;\">\n",
       "      <th></th>\n",
       "      <th>Total Household Income</th>\n",
       "      <th>Total Food Expenditure</th>\n",
       "      <th>Agricultural Household indicator</th>\n",
       "      <th>Bread and Cereals Expenditure</th>\n",
       "      <th>Total Rice Expenditure</th>\n",
       "      <th>Meat Expenditure</th>\n",
       "      <th>Total Fish and  marine products Expenditure</th>\n",
       "      <th>Fruit Expenditure</th>\n",
       "      <th>Vegetables Expenditure</th>\n",
       "      <th>Restaurant and hotels Expenditure</th>\n",
       "    </tr>\n",
       "  </thead>\n",
       "  <tbody>\n",
       "    <tr>\n",
       "      <th>mean</th>\n",
       "      <td>2.475556e+05</td>\n",
       "      <td>85099.158194</td>\n",
       "      <td>0.429858</td>\n",
       "      <td>25133.723642</td>\n",
       "      <td>18195.825005</td>\n",
       "      <td>10540.072574</td>\n",
       "      <td>10529.318337</td>\n",
       "      <td>2550.474990</td>\n",
       "      <td>5006.918568</td>\n",
       "      <td>15436.566075</td>\n",
       "    </tr>\n",
       "    <tr>\n",
       "      <th>std</th>\n",
       "      <td>2.868805e+05</td>\n",
       "      <td>51637.947682</td>\n",
       "      <td>0.676666</td>\n",
       "      <td>13466.482984</td>\n",
       "      <td>11727.224350</td>\n",
       "      <td>10497.727757</td>\n",
       "      <td>7812.201613</td>\n",
       "      <td>2969.752879</td>\n",
       "      <td>3300.175236</td>\n",
       "      <td>23705.195929</td>\n",
       "    </tr>\n",
       "    <tr>\n",
       "      <th>min</th>\n",
       "      <td>1.128500e+04</td>\n",
       "      <td>2947.000000</td>\n",
       "      <td>0.000000</td>\n",
       "      <td>0.000000</td>\n",
       "      <td>0.000000</td>\n",
       "      <td>0.000000</td>\n",
       "      <td>0.000000</td>\n",
       "      <td>0.000000</td>\n",
       "      <td>0.000000</td>\n",
       "      <td>0.000000</td>\n",
       "    </tr>\n",
       "    <tr>\n",
       "      <th>25%</th>\n",
       "      <td>1.048950e+05</td>\n",
       "      <td>51017.250000</td>\n",
       "      <td>0.000000</td>\n",
       "      <td>16556.000000</td>\n",
       "      <td>11020.000000</td>\n",
       "      <td>3353.750000</td>\n",
       "      <td>5504.000000</td>\n",
       "      <td>1024.750000</td>\n",
       "      <td>2873.000000</td>\n",
       "      <td>1930.000000</td>\n",
       "    </tr>\n",
       "    <tr>\n",
       "      <th>50%</th>\n",
       "      <td>1.640795e+05</td>\n",
       "      <td>72985.500000</td>\n",
       "      <td>0.000000</td>\n",
       "      <td>23324.000000</td>\n",
       "      <td>16620.000000</td>\n",
       "      <td>7332.500000</td>\n",
       "      <td>8695.000000</td>\n",
       "      <td>1820.000000</td>\n",
       "      <td>4314.000000</td>\n",
       "      <td>7314.000000</td>\n",
       "    </tr>\n",
       "    <tr>\n",
       "      <th>75%</th>\n",
       "      <td>2.911385e+05</td>\n",
       "      <td>105635.500000</td>\n",
       "      <td>1.000000</td>\n",
       "      <td>31439.000000</td>\n",
       "      <td>23920.000000</td>\n",
       "      <td>14292.000000</td>\n",
       "      <td>13388.000000</td>\n",
       "      <td>3100.000000</td>\n",
       "      <td>6304.250000</td>\n",
       "      <td>19921.250000</td>\n",
       "    </tr>\n",
       "    <tr>\n",
       "      <th>max</th>\n",
       "      <td>1.181599e+07</td>\n",
       "      <td>827565.000000</td>\n",
       "      <td>2.000000</td>\n",
       "      <td>765864.000000</td>\n",
       "      <td>758326.000000</td>\n",
       "      <td>261566.000000</td>\n",
       "      <td>188208.000000</td>\n",
       "      <td>273769.000000</td>\n",
       "      <td>74800.000000</td>\n",
       "      <td>725296.000000</td>\n",
       "    </tr>\n",
       "  </tbody>\n",
       "</table>\n",
       "</div>"
      ],
      "text/plain": [
       "      Total Household Income  Total Food Expenditure  \\\n",
       "mean            2.475556e+05            85099.158194   \n",
       "std             2.868805e+05            51637.947682   \n",
       "min             1.128500e+04             2947.000000   \n",
       "25%             1.048950e+05            51017.250000   \n",
       "50%             1.640795e+05            72985.500000   \n",
       "75%             2.911385e+05           105635.500000   \n",
       "max             1.181599e+07           827565.000000   \n",
       "\n",
       "      Agricultural Household indicator  Bread and Cereals Expenditure  \\\n",
       "mean                          0.429858                   25133.723642   \n",
       "std                           0.676666                   13466.482984   \n",
       "min                           0.000000                       0.000000   \n",
       "25%                           0.000000                   16556.000000   \n",
       "50%                           0.000000                   23324.000000   \n",
       "75%                           1.000000                   31439.000000   \n",
       "max                           2.000000                  765864.000000   \n",
       "\n",
       "      Total Rice Expenditure  Meat Expenditure  \\\n",
       "mean            18195.825005      10540.072574   \n",
       "std             11727.224350      10497.727757   \n",
       "min                 0.000000          0.000000   \n",
       "25%             11020.000000       3353.750000   \n",
       "50%             16620.000000       7332.500000   \n",
       "75%             23920.000000      14292.000000   \n",
       "max            758326.000000     261566.000000   \n",
       "\n",
       "      Total Fish and  marine products Expenditure  Fruit Expenditure  \\\n",
       "mean                                 10529.318337        2550.474990   \n",
       "std                                   7812.201613        2969.752879   \n",
       "min                                      0.000000           0.000000   \n",
       "25%                                   5504.000000        1024.750000   \n",
       "50%                                   8695.000000        1820.000000   \n",
       "75%                                  13388.000000        3100.000000   \n",
       "max                                 188208.000000      273769.000000   \n",
       "\n",
       "      Vegetables Expenditure  Restaurant and hotels Expenditure  \n",
       "mean             5006.918568                       15436.566075  \n",
       "std              3300.175236                       23705.195929  \n",
       "min                 0.000000                           0.000000  \n",
       "25%              2873.000000                        1930.000000  \n",
       "50%              4314.000000                        7314.000000  \n",
       "75%              6304.250000                       19921.250000  \n",
       "max             74800.000000                      725296.000000  "
      ]
     },
     "execution_count": 10,
     "metadata": {},
     "output_type": "execute_result"
    }
   ],
   "source": [
    "describe_all"
   ]
  },
  {
   "cell_type": "code",
   "execution_count": 11,
   "metadata": {},
   "outputs": [
    {
     "data": {
      "text/html": [
       "<div>\n",
       "<style scoped>\n",
       "    .dataframe tbody tr th:only-of-type {\n",
       "        vertical-align: middle;\n",
       "    }\n",
       "\n",
       "    .dataframe tbody tr th {\n",
       "        vertical-align: top;\n",
       "    }\n",
       "\n",
       "    .dataframe thead th {\n",
       "        text-align: right;\n",
       "    }\n",
       "</style>\n",
       "<table border=\"1\" class=\"dataframe\">\n",
       "  <thead>\n",
       "    <tr style=\"text-align: right;\">\n",
       "      <th></th>\n",
       "      <th>Total Household Income</th>\n",
       "      <th>Total Food Expenditure</th>\n",
       "      <th>Agricultural Household indicator</th>\n",
       "      <th>Bread and Cereals Expenditure</th>\n",
       "      <th>Total Rice Expenditure</th>\n",
       "      <th>Meat Expenditure</th>\n",
       "      <th>Total Fish and  marine products Expenditure</th>\n",
       "      <th>Fruit Expenditure</th>\n",
       "      <th>Vegetables Expenditure</th>\n",
       "      <th>Restaurant and hotels Expenditure</th>\n",
       "    </tr>\n",
       "  </thead>\n",
       "  <tbody>\n",
       "    <tr>\n",
       "      <th>mean</th>\n",
       "      <td>2.328442e+05</td>\n",
       "      <td>87521.320000</td>\n",
       "      <td>0.500000</td>\n",
       "      <td>26285.630000</td>\n",
       "      <td>20189.610000</td>\n",
       "      <td>10917.160000</td>\n",
       "      <td>10495.110000</td>\n",
       "      <td>2199.000000</td>\n",
       "      <td>4672.450000</td>\n",
       "      <td>16818.600000</td>\n",
       "    </tr>\n",
       "    <tr>\n",
       "      <th>std</th>\n",
       "      <td>2.071488e+05</td>\n",
       "      <td>56250.086338</td>\n",
       "      <td>0.731679</td>\n",
       "      <td>14999.012508</td>\n",
       "      <td>13669.468146</td>\n",
       "      <td>10744.412905</td>\n",
       "      <td>8696.161257</td>\n",
       "      <td>1751.946191</td>\n",
       "      <td>2837.520398</td>\n",
       "      <td>23758.733403</td>\n",
       "    </tr>\n",
       "    <tr>\n",
       "      <th>min</th>\n",
       "      <td>1.128500e+04</td>\n",
       "      <td>14709.000000</td>\n",
       "      <td>0.000000</td>\n",
       "      <td>3158.000000</td>\n",
       "      <td>91.000000</td>\n",
       "      <td>190.000000</td>\n",
       "      <td>1340.000000</td>\n",
       "      <td>0.000000</td>\n",
       "      <td>350.000000</td>\n",
       "      <td>0.000000</td>\n",
       "    </tr>\n",
       "    <tr>\n",
       "      <th>25%</th>\n",
       "      <td>1.043692e+05</td>\n",
       "      <td>52215.500000</td>\n",
       "      <td>0.000000</td>\n",
       "      <td>17031.500000</td>\n",
       "      <td>10825.250000</td>\n",
       "      <td>3549.750000</td>\n",
       "      <td>5425.250000</td>\n",
       "      <td>953.750000</td>\n",
       "      <td>2684.500000</td>\n",
       "      <td>3498.750000</td>\n",
       "    </tr>\n",
       "    <tr>\n",
       "      <th>50%</th>\n",
       "      <td>1.624915e+05</td>\n",
       "      <td>80342.000000</td>\n",
       "      <td>0.000000</td>\n",
       "      <td>23218.000000</td>\n",
       "      <td>17360.000000</td>\n",
       "      <td>7918.500000</td>\n",
       "      <td>8118.500000</td>\n",
       "      <td>1625.500000</td>\n",
       "      <td>4250.000000</td>\n",
       "      <td>8555.000000</td>\n",
       "    </tr>\n",
       "    <tr>\n",
       "      <th>75%</th>\n",
       "      <td>2.847320e+05</td>\n",
       "      <td>111110.500000</td>\n",
       "      <td>1.000000</td>\n",
       "      <td>33353.750000</td>\n",
       "      <td>27719.250000</td>\n",
       "      <td>14350.500000</td>\n",
       "      <td>12641.000000</td>\n",
       "      <td>2721.250000</td>\n",
       "      <td>5921.250000</td>\n",
       "      <td>19277.500000</td>\n",
       "    </tr>\n",
       "    <tr>\n",
       "      <th>max</th>\n",
       "      <td>1.236260e+06</td>\n",
       "      <td>397574.000000</td>\n",
       "      <td>2.000000</td>\n",
       "      <td>117974.000000</td>\n",
       "      <td>104745.000000</td>\n",
       "      <td>54646.000000</td>\n",
       "      <td>61005.000000</td>\n",
       "      <td>8099.000000</td>\n",
       "      <td>17413.000000</td>\n",
       "      <td>139600.000000</td>\n",
       "    </tr>\n",
       "  </tbody>\n",
       "</table>\n",
       "</div>"
      ],
      "text/plain": [
       "      Total Household Income  Total Food Expenditure  \\\n",
       "mean            2.328442e+05            87521.320000   \n",
       "std             2.071488e+05            56250.086338   \n",
       "min             1.128500e+04            14709.000000   \n",
       "25%             1.043692e+05            52215.500000   \n",
       "50%             1.624915e+05            80342.000000   \n",
       "75%             2.847320e+05           111110.500000   \n",
       "max             1.236260e+06           397574.000000   \n",
       "\n",
       "      Agricultural Household indicator  Bread and Cereals Expenditure  \\\n",
       "mean                          0.500000                   26285.630000   \n",
       "std                           0.731679                   14999.012508   \n",
       "min                           0.000000                    3158.000000   \n",
       "25%                           0.000000                   17031.500000   \n",
       "50%                           0.000000                   23218.000000   \n",
       "75%                           1.000000                   33353.750000   \n",
       "max                           2.000000                  117974.000000   \n",
       "\n",
       "      Total Rice Expenditure  Meat Expenditure  \\\n",
       "mean            20189.610000      10917.160000   \n",
       "std             13669.468146      10744.412905   \n",
       "min                91.000000        190.000000   \n",
       "25%             10825.250000       3549.750000   \n",
       "50%             17360.000000       7918.500000   \n",
       "75%             27719.250000      14350.500000   \n",
       "max            104745.000000      54646.000000   \n",
       "\n",
       "      Total Fish and  marine products Expenditure  Fruit Expenditure  \\\n",
       "mean                                 10495.110000        2199.000000   \n",
       "std                                   8696.161257        1751.946191   \n",
       "min                                   1340.000000           0.000000   \n",
       "25%                                   5425.250000         953.750000   \n",
       "50%                                   8118.500000        1625.500000   \n",
       "75%                                  12641.000000        2721.250000   \n",
       "max                                  61005.000000        8099.000000   \n",
       "\n",
       "      Vegetables Expenditure  Restaurant and hotels Expenditure  \n",
       "mean             4672.450000                       16818.600000  \n",
       "std              2837.520398                       23758.733403  \n",
       "min               350.000000                           0.000000  \n",
       "25%              2684.500000                        3498.750000  \n",
       "50%              4250.000000                        8555.000000  \n",
       "75%              5921.250000                       19277.500000  \n",
       "max             17413.000000                      139600.000000  "
      ]
     },
     "execution_count": 11,
     "metadata": {},
     "output_type": "execute_result"
    }
   ],
   "source": [
    "describe_sist"
   ]
  },
  {
   "cell_type": "code",
   "execution_count": 12,
   "metadata": {
    "scrolled": false
   },
   "outputs": [
    {
     "data": {
      "image/png": "[encoded data removed]",
      "text/plain": [
       "<Figure size 432x432 with 1 Axes>"
      ]
     },
     "metadata": {
      "needs_background": "light"
     },
     "output_type": "display_data"
    },
    {
     "data": {
      "image/png": "[encoded data removed]",
      "text/plain": [
       "<Figure size 432x432 with 1 Axes>"
      ]
     },
     "metadata": {
      "needs_background": "light"
     },
     "output_type": "display_data"
    },
    {
     "data": {
      "image/png": "[encoded data removed]",
      "text/plain": [
       "<Figure size 432x432 with 1 Axes>"
      ]
     },
     "metadata": {
      "needs_background": "light"
     },
     "output_type": "display_data"
    },
    {
     "data": {
      "image/png": "[encoded data removed]",
      "text/plain": [
       "<Figure size 432x432 with 1 Axes>"
      ]
     },
     "metadata": {
      "needs_background": "light"
     },
     "output_type": "display_data"
    },
    {
     "data": {
      "image/png": "[encoded data removed]",
      "text/plain": [
       "<Figure size 432x432 with 1 Axes>"
      ]
     },
     "metadata": {
      "needs_background": "light"
     },
     "output_type": "display_data"
    },
    {
     "data": {
      "image/png": "[encoded data removed]",
      "text/plain": [
       "<Figure size 432x432 with 1 Axes>"
      ]
     },
     "metadata": {
      "needs_background": "light"
     },
     "output_type": "display_data"
    },
    {
     "data": {
      "image/png": "[encoded data removed]",
      "text/plain": [
       "<Figure size 432x432 with 1 Axes>"
      ]
     },
     "metadata": {
      "needs_background": "light"
     },
     "output_type": "display_data"
    },
    {
     "data": {
      "image/png": "[encoded data removed]",
      "text/plain": [
       "<Figure size 432x432 with 1 Axes>"
      ]
     },
     "metadata": {
      "needs_background": "light"
     },
     "output_type": "display_data"
    },
    {
     "data": {
      "image/png": "[encoded data removed]",
      "text/plain": [
       "<Figure size 432x432 with 1 Axes>"
      ]
     },
     "metadata": {
      "needs_background": "light"
     },
     "output_type": "display_data"
    },
    {
     "data": {
      "image/png": "[encoded data removed]",
      "text/plain": [
       "<Figure size 432x432 with 1 Axes>"
      ]
     },
     "metadata": {
      "needs_background": "light"
     },
     "output_type": "display_data"
    }
   ],
   "source": [
    "variavel = list(df_aas_quant.columns.values)\n",
    "\n",
    "x = [i+1 for i in range(len(describe_aas))]\n",
    "\n",
    "for i in variavel:\n",
    "    \n",
    "    plt.figure(figsize=(6,6))\n",
    "\n",
    "    y1 = list(describe_aas[i].values)\n",
    "    y2 = list(describe_sist[i].values)\n",
    "    y3 = list(describe_all[i].values)\n",
    "    \n",
    "    plt.plot(x,y1)\n",
    "    plt.plot(x,y2)\n",
    "    plt.plot(x,y3)\n",
    "    \n",
    "    plt.legend(['AAS','SISTEMÁTICA','ALL'])\n",
    "    plt.title(i)\n",
    "    plt.xticks(x, list(describe_aas.index.values))\n",
    "        \n",
    "    plt.show()"
   ]
  },
  {
   "cell_type": "code",
   "execution_count": 13,
   "metadata": {},
   "outputs": [],
   "source": [
    "#COEFICIENTE DE ASSIMETRIA AMOSTRAL\n",
    "#https://www.insper.edu.br/docentes/rinaldo-artes/wp-content/uploads/sites/14/2014/09/Medidas-de-forma-Assimetria_2014.pdf\n",
    "\n",
    "def coef_simetria(dataframe):\n",
    "\n",
    "    lista_coef = []\n",
    "    \n",
    "    for i in list(dataframe.columns.values):\n",
    "        \n",
    "        vetor = dataframe[i].values\n",
    "        media = np.ones(len(dataframe[i]))*np.mean(dataframe[i].values)\n",
    "        dp = np.std(dataframe[i].values)\n",
    "        \n",
    "        coef = (1/len(dataframe[i]))*np.sum(((vetor - media)/dp)**3)\n",
    "        \n",
    "        lista_coef.append(round(coef,2))\n",
    "        \n",
    "    return lista_coef"
   ]
  },
  {
   "cell_type": "code",
   "execution_count": 14,
   "metadata": {},
   "outputs": [],
   "source": [
    "coef_aas = coef_simetria(df_aas_quant)\n",
    "coef_sist = coef_simetria(df_sist_quant)\n",
    "coef_all = coef_simetria(df_all_quant)"
   ]
  },
  {
   "cell_type": "code",
   "execution_count": 15,
   "metadata": {},
   "outputs": [
    {
     "name": "stdout",
     "output_type": "stream",
     "text": [
      "Total Household Income : 2.94 \t 2.29 \t 8.9\n",
      "Total Food Expenditure : 1.54 \t 2.37 \t 2.23\n",
      "Agricultural Household indicator : 1.42 \t 1.09 \t 1.29\n",
      "Bread and Cereals Expenditure : 0.79 \t 2.63 \t 7.01\n",
      "Total Rice Expenditure : 1.23 \t 2.54 \t 8.99\n",
      "Meat Expenditure : 1.96 \t 1.89 \t 2.6\n",
      "Total Fish and  marine products Expenditure : 1.47 \t 2.75 \t 2.87\n",
      "Fruit Expenditure : 3.32 \t 1.52 \t 21.7\n",
      "Vegetables Expenditure : 0.86 \t 1.55 \t 2.51\n",
      "Restaurant and hotels Expenditure : 1.87 \t 2.73 \t 5.74\n"
     ]
    }
   ],
   "source": [
    "for i in range(len(coef_aas)):\n",
    "    print(list(df_aas_quant.columns.values)[i],':', coef_aas[i],'\\t',coef_sist[i],'\\t',coef_all[i])"
   ]
  },
  {
   "cell_type": "markdown",
   "metadata": {},
   "source": [
    "#### Considerações finais"
   ]
  },
  {
   "cell_type": "markdown",
   "metadata": {},
   "source": [
    "Conforme observado nas estatísticas descritivas e nos gráficos, a amostragem aleatória simples e a amostragem sistemática trouxeram uma boa representação do todo. \n",
    "\n",
    "No caso do ponto máximo da amostra com todos os valores, podemos considerar o ponto máximo um outlier em praticamente em todos os gráficos, fugindo da distribuição em torno da média, principalmente considerando que o levantamento feito neste estudo é de distribuição de gastos e renda.\n",
    "\n",
    "Considerando o aspecto simétrico de distribuição das amostras, todos os coeficientes de assimetria são positivos, o que significa que todas as distribuições são assimétricas positivas.\n",
    "\n",
    "Para eliminar a aleatoriedade das inúmeras vezes que o programa rodar, o estudo será prosseguido com a distribuição sistemática."
   ]
  },
  {
   "cell_type": "markdown",
   "metadata": {},
   "source": [
    "## Milestone 2"
   ]
  },
  {
   "cell_type": "markdown",
   "metadata": {},
   "source": [
    "Calcule com 95% de confiança a média de dinheiro gasto com saúde e educação (colunas Medical Care Expenditure e Education Expenditure)"
   ]
  },
  {
   "cell_type": "code",
   "execution_count": 16,
   "metadata": {},
   "outputs": [],
   "source": [
    "array_MCE = df_sist['Medical Care Expenditure'].values\n",
    "array_EE = df_sist['Education Expenditure'].values"
   ]
  },
  {
   "cell_type": "code",
   "execution_count": 17,
   "metadata": {},
   "outputs": [],
   "source": [
    "import numpy as np                                                         \n",
    "import scipy as sp                                                         \n",
    "import scipy.stats\n",
    "import statistics as st\n",
    "\n",
    "def intervalo_conf(array):\n",
    "    \n",
    "    media = np.mean(array)\n",
    "    desv_pad = np.std(array)\n",
    "    \n",
    "    conf_int = scipy.stats.norm.interval(0.95, loc=media, scale=desv_pad/np.sqrt(len(array)))\n",
    "    \n",
    "    return conf_int"
   ]
  },
  {
   "cell_type": "code",
   "execution_count": 18,
   "metadata": {},
   "outputs": [
    {
     "data": {
      "text/plain": [
       "(3288.771697332417, 8707.608302667582)"
      ]
     },
     "execution_count": 18,
     "metadata": {},
     "output_type": "execute_result"
    }
   ],
   "source": [
    "#Dinheiro gasto com saúde\n",
    "intervalo_conf(array_MCE)"
   ]
  },
  {
   "cell_type": "code",
   "execution_count": 19,
   "metadata": {},
   "outputs": [
    {
     "data": {
      "text/plain": [
       "(3457.906195286556, 9727.773804713444)"
      ]
     },
     "execution_count": 19,
     "metadata": {},
     "output_type": "execute_result"
    }
   ],
   "source": [
    "#Dinheiro gasto com educação\n",
    "intervalo_conf(array_EE)"
   ]
  },
  {
   "cell_type": "markdown",
   "metadata": {},
   "source": [
    "Calcule se há diferença de média de número total de membros da família pelo sexo do chefe de família (Household Head Sex e Total Number of Family members) com 95% de confiança."
   ]
  },
  {
   "cell_type": "code",
   "execution_count": 20,
   "metadata": {},
   "outputs": [],
   "source": [
    "df_sist_male = df_sist[df_sist['Household Head Sex']=='Male']\n",
    "df_sist_female = df_sist[df_sist['Household Head Sex']=='Female']\n",
    "\n",
    "array_male = df_sist_male['Total Number of Family members'].values\n",
    "array_female = df_sist_female['Total Number of Family members'].values"
   ]
  },
  {
   "cell_type": "code",
   "execution_count": 36,
   "metadata": {},
   "outputs": [],
   "source": [
    "from scipy.stats import ttest_ind\n",
    "from scipy.stats import f\n",
    "\n",
    "def compare_2_means(array1,array2,alpha):\n",
    "    \n",
    "    #TESTE F PARA SABER SE AS VARIÂNCIAS SÃO IGUAIS\n",
    "    \n",
    "    equal_vars = 1 #hipotese H0 de que as variancias são iguais\n",
    "    F = (np.std(array1)**2)/(np.std(array2)**2)\n",
    "    len_1 = len(array1)-1\n",
    "    len_2 = len(array2)-1\n",
    "    \n",
    "    p_f = f.cdf(F,len_1,len_2) #p-value para o teste f\n",
    "                                 \n",
    "    if p_f > alpha:\n",
    "        equal_vars = 0 #rejeita a hipotese de que as variancias são iguais\n",
    "        \n",
    "    #TESTE T PARA SABER SE AS MÉDIAS SÃO IGUAIS\n",
    "    \n",
    "    if equal_vars == 0: #rejeita a hipotese de que as variancias são iguais\n",
    "        stat,p = ttest_ind(array1, array2,equal_var = False)\n",
    "    else:\n",
    "        stat,p = ttest_ind(array1, array2,equal_var = True)\n",
    "        \n",
    "    print('Statistics:', round(stat,2),',', 'P-value: ',round(p,2))"
   ]
  },
  {
   "cell_type": "code",
   "execution_count": 37,
   "metadata": {},
   "outputs": [
    {
     "name": "stdout",
     "output_type": "stream",
     "text": [
      "Statistics: -0.42 , P-value:  0.68\n"
     ]
    }
   ],
   "source": [
    "compare_2_means(array_male, array_female,0.05)\n",
    "\n",
    "#Como alpha < p-value, as médias podem ser consideradas iguais"
   ]
  },
  {
   "cell_type": "markdown",
   "metadata": {},
   "source": [
    "Calcule se há diferença de média total de renda da família(total household Income) de acordo com a fonte salarial (main source of income)"
   ]
  },
  {
   "cell_type": "code",
   "execution_count": 23,
   "metadata": {},
   "outputs": [
    {
     "data": {
      "text/plain": [
       "array(['Other sources of Income', 'Enterpreneurial Activities',\n",
       "       'Wage/Salaries'], dtype=object)"
      ]
     },
     "execution_count": 23,
     "metadata": {},
     "output_type": "execute_result"
    }
   ],
   "source": [
    "# 'Total Household Income'\n",
    "df_sist['Main Source of Income'].unique()"
   ]
  },
  {
   "cell_type": "code",
   "execution_count": 24,
   "metadata": {},
   "outputs": [
    {
     "data": {
      "text/plain": [
       "array(['Others', 'Wage/Salaries'], dtype=object)"
      ]
     },
     "execution_count": 24,
     "metadata": {},
     "output_type": "execute_result"
    }
   ],
   "source": [
    "df_sist['Main Source of Income'] = df_sist['Main Source of Income'].replace(['Other sources of Income', \n",
    "                                                                        'Enterpreneurial Activities'],'Others')\n",
    "df_sist['Main Source of Income'].unique()"
   ]
  },
  {
   "cell_type": "code",
   "execution_count": 25,
   "metadata": {},
   "outputs": [],
   "source": [
    "df_sist_others = df_sist[df_sist['Main Source of Income']=='Others']\n",
    "df_sist_ws = df_sist[df_sist['Main Source of Income']=='Wage/Salaries']\n",
    "\n",
    "array_others = df_sist_others['Total Household Income'].values\n",
    "array_ws = df_sist_ws['Total Household Income'].values"
   ]
  },
  {
   "cell_type": "code",
   "execution_count": 26,
   "metadata": {},
   "outputs": [
    {
     "name": "stdout",
     "output_type": "stream",
     "text": [
      "Statistics: -1.79 , P-value:  0.08\n"
     ]
    }
   ],
   "source": [
    "compare_2_means(array_others, array_ws,0.05)\n",
    "\n",
    "#num intervalo de até 8% de alpha, as médias são iguais"
   ]
  },
  {
   "cell_type": "markdown",
   "metadata": {},
   "source": [
    "## Milestone 3"
   ]
  },
  {
   "cell_type": "code",
   "execution_count": 27,
   "metadata": {},
   "outputs": [
    {
     "data": {
      "text/plain": [
       "array(['With Job/Business', 'No Job/Business'], dtype=object)"
      ]
     },
     "execution_count": 27,
     "metadata": {},
     "output_type": "execute_result"
    }
   ],
   "source": [
    "df['Household Head Job or Business Indicator'].unique() #2 classificações apenas (ufa!)"
   ]
  },
  {
   "cell_type": "code",
   "execution_count": 28,
   "metadata": {},
   "outputs": [],
   "source": [
    "df['Household Head Highest Grade Completed'].unique() #imprimir valores únicos e classificá-los manualmente\n",
    "\n",
    "fundamental = ['Grade 4','Elementary Graduate','No Grade Completed','Grade 2', 'Grade 1', 'Grade 3', 'Grade 5',\n",
    "               'Grade 6', 'Preschool']\n",
    "medio = ['High School Graduate','Second Year High School', 'Third Year High School','First Year High School']\n",
    "superior = ['Second Year College','Computing/Information Technology Programs',\n",
    "            'Engineering and Engineering trades Programs','Business and Administration Programs',\n",
    "            'Engineering and Engineering Trades Programs','First Year Post Secondary',\n",
    "            'Other Programs in Education at the Third Level, First Stage, of the Type that Leads to an Award not Equivalent to a First University or Baccalaureate Degree',\n",
    "            'Agriculture, Forestry, and Fishery Programs','Transport Services Programs', 'Humanities Programs',\n",
    "            'Health Programs', 'Second Year Post Secondary','Health Programs', 'Second Year Post Secondary',\n",
    "            'Security Services Programs', 'Environmental Protection Programs','Physical Sciences Programs', \n",
    "            'Basic Programs','Social Services Programs', 'Post Baccalaureate', 'Manufacturing and Processing Programs',\n",
    "            'Life Sciences Programs','Arts Programs', 'Journalism and Information Programs','Veterinary Programs',\n",
    "            'Mathematics and Statistics Programs', 'Law Programs','Architecture and Building Programs',\n",
    "            'Other Programs of Education at the Third Level, First Stage, of the Type that Leads to a Baccalaureate or First University/Professional Degree (HIgher Education Level, First Stage, or Collegiate Education Level)',\n",
    "            'Social and Behavioral Science Programs','Personal Services Programs', 'Third Year College',\n",
    "            'First Year College', 'Fourth Year College','Teacher Training and Education Sciences Programs']\n",
    "\n",
    "ensino = [fundamental, medio, superior]\n",
    "class_ensino = ['fundamental','medio','superior']\n",
    "\n",
    "for i in range(len(ensino)):    \n",
    "    df_sist = df_sist.apply(lambda x: x.replace(ensino[i], class_ensino[i]), axis=0)\n"
   ]
  },
  {
   "cell_type": "markdown",
   "metadata": {},
   "source": [
    "#### Construção de Gráfico para Gestão Visual "
   ]
  },
  {
   "cell_type": "code",
   "execution_count": 29,
   "metadata": {},
   "outputs": [
    {
     "data": {
      "image/png": "[encoded data removed]",
      "text/plain": [
       "<Figure size 864x432 with 1 Axes>"
      ]
     },
     "metadata": {
      "needs_background": "light"
     },
     "output_type": "display_data"
    }
   ],
   "source": [
    "#https://medium.com/horadecodar/gr%C3%A1ficos-de-barra-com-matplotlib-85628bfc4351\n",
    "\n",
    "df_nojob = df_sist[df_sist['Household Head Job or Business Indicator']=='No Job/Business']\n",
    "df_withjob = df_sist[df_sist['Household Head Job or Business Indicator']=='With Job/Business']\n",
    "\n",
    "#porcentagens em cada nível (fundamental, medio e superior)\n",
    "x = class_ensino\n",
    "nojob = list(df_nojob['Household Head Highest Grade Completed'].value_counts().sort_index().values)\n",
    "withjob = list(df_withjob['Household Head Highest Grade Completed'].value_counts().sort_index().values)\n",
    "\n",
    "#gráfico\n",
    "barWidth = 0.25\n",
    "\n",
    "plt.figure(figsize = (12,6))\n",
    "\n",
    "r1 = [0,1,2]\n",
    "r2 = [i + barWidth for i in r1]\n",
    "\n",
    "plt.bar(r1, nojob, color = '#6A5ACD', width = barWidth, label = 'No Job')\n",
    "plt.bar(r2, withjob, color = '#00BFFF', width = barWidth, label = 'With Job')\n",
    "\n",
    "plt.xlabel('Nível de Escolaridade')\n",
    "plt.xticks([(r+(barWidth)/2) for r in r1],['Fundamental','Médio','Superior'])\n",
    "plt.ylabel('Porcentagem')\n",
    "plt.title('Porcentagem de Pessoas com Emprego vs. Nível de Escolaridade')\n",
    "\n",
    "plt.legend()\n",
    "plt.show()"
   ]
  },
  {
   "cell_type": "markdown",
   "metadata": {},
   "source": [
    "#### Cálculo de Independência "
   ]
  },
  {
   "cell_type": "markdown",
   "metadata": {},
   "source": [
    "Para realizar o cálculo de independência, usaremos o teste do qui-quadrado.\n",
    "\n",
    "HIPÓTESES:\n",
    "\n",
    "H0: o nível de escolaridade não influencia no fato de ter ou não emprego\n",
    "\n",
    "H1: existe diferença\n",
    "\n",
    "Sendo assim, vamos considerar como cenário ideal as médias entre as populações."
   ]
  },
  {
   "cell_type": "code",
   "execution_count": 30,
   "metadata": {},
   "outputs": [
    {
     "data": {
      "text/html": [
       "<div>\n",
       "<style scoped>\n",
       "    .dataframe tbody tr th:only-of-type {\n",
       "        vertical-align: middle;\n",
       "    }\n",
       "\n",
       "    .dataframe tbody tr th {\n",
       "        vertical-align: top;\n",
       "    }\n",
       "\n",
       "    .dataframe thead th {\n",
       "        text-align: right;\n",
       "    }\n",
       "</style>\n",
       "<table border=\"1\" class=\"dataframe\">\n",
       "  <thead>\n",
       "    <tr style=\"text-align: right;\">\n",
       "      <th></th>\n",
       "      <th>Fundamental</th>\n",
       "      <th>Médio</th>\n",
       "      <th>Superior</th>\n",
       "      <th>Soma_v</th>\n",
       "    </tr>\n",
       "  </thead>\n",
       "  <tbody>\n",
       "    <tr>\n",
       "      <th>No Job</th>\n",
       "      <td>8</td>\n",
       "      <td>8</td>\n",
       "      <td>7</td>\n",
       "      <td>23</td>\n",
       "    </tr>\n",
       "    <tr>\n",
       "      <th>With Job</th>\n",
       "      <td>26</td>\n",
       "      <td>29</td>\n",
       "      <td>22</td>\n",
       "      <td>77</td>\n",
       "    </tr>\n",
       "    <tr>\n",
       "      <th>Soma_h</th>\n",
       "      <td>34</td>\n",
       "      <td>37</td>\n",
       "      <td>29</td>\n",
       "      <td>100</td>\n",
       "    </tr>\n",
       "  </tbody>\n",
       "</table>\n",
       "</div>"
      ],
      "text/plain": [
       "          Fundamental  Médio  Superior  Soma_v\n",
       "No Job              8      8         7      23\n",
       "With Job           26     29        22      77\n",
       "Soma_h             34     37        29     100"
      ]
     },
     "execution_count": 30,
     "metadata": {},
     "output_type": "execute_result"
    }
   ],
   "source": [
    "#tabela suposta\n",
    "table = pd.DataFrame(data = {'No Job': nojob, 'With Job': withjob})\n",
    "table['Soma_h'] = (table['No Job'].values + table['With Job'].values)\n",
    "\n",
    "table = table.T.rename(columns = {0:'Fundamental',1:'Médio',2:'Superior'})\n",
    "table_3 = table.drop(index = 'Soma_h')\n",
    "\n",
    "table['Soma_v'] = table['Fundamental']+table['Médio']+table['Superior']\n",
    "\n",
    "table"
   ]
  },
  {
   "cell_type": "code",
   "execution_count": 31,
   "metadata": {},
   "outputs": [
    {
     "data": {
      "text/html": [
       "<div>\n",
       "<style scoped>\n",
       "    .dataframe tbody tr th:only-of-type {\n",
       "        vertical-align: middle;\n",
       "    }\n",
       "\n",
       "    .dataframe tbody tr th {\n",
       "        vertical-align: top;\n",
       "    }\n",
       "\n",
       "    .dataframe thead th {\n",
       "        text-align: right;\n",
       "    }\n",
       "</style>\n",
       "<table border=\"1\" class=\"dataframe\">\n",
       "  <thead>\n",
       "    <tr style=\"text-align: right;\">\n",
       "      <th></th>\n",
       "      <th>Fundamental</th>\n",
       "      <th>Médio</th>\n",
       "      <th>Superior</th>\n",
       "    </tr>\n",
       "  </thead>\n",
       "  <tbody>\n",
       "    <tr>\n",
       "      <th>No Job</th>\n",
       "      <td>8</td>\n",
       "      <td>8</td>\n",
       "      <td>7</td>\n",
       "    </tr>\n",
       "    <tr>\n",
       "      <th>With Job</th>\n",
       "      <td>26</td>\n",
       "      <td>29</td>\n",
       "      <td>22</td>\n",
       "    </tr>\n",
       "  </tbody>\n",
       "</table>\n",
       "</div>"
      ],
      "text/plain": [
       "          Fundamental  Médio  Superior\n",
       "No Job              8      8         7\n",
       "With Job           26     29        22"
      ]
     },
     "execution_count": 31,
     "metadata": {},
     "output_type": "execute_result"
    }
   ],
   "source": [
    "table_3 #tabela observada"
   ]
  },
  {
   "cell_type": "code",
   "execution_count": 33,
   "metadata": {},
   "outputs": [],
   "source": [
    "from scipy.stats import chisquare,chi2_contingency\n",
    "\n",
    "chi2_3, pval_3, dof_3, exp_3 = chi2_contingency(table_3)"
   ]
  },
  {
   "cell_type": "code",
   "execution_count": 34,
   "metadata": {},
   "outputs": [
    {
     "data": {
      "text/plain": [
       "array([[ 7.82,  8.51,  6.67],\n",
       "       [26.18, 28.49, 22.33]])"
      ]
     },
     "execution_count": 34,
     "metadata": {},
     "output_type": "execute_result"
    }
   ],
   "source": [
    "exp_3 #tabela esperada"
   ]
  },
  {
   "cell_type": "code",
   "execution_count": 35,
   "metadata": {},
   "outputs": [
    {
     "data": {
      "text/plain": [
       "(0.06627805375490355, 0.9674040550743661)"
      ]
     },
     "execution_count": 35,
     "metadata": {},
     "output_type": "execute_result"
    }
   ],
   "source": [
    "chi2_3, pval_3 #statistica e p-valor"
   ]
  },
  {
   "cell_type": "markdown",
   "metadata": {},
   "source": [
    "#### Considerações Finais"
   ]
  },
  {
   "cell_type": "markdown",
   "metadata": {},
   "source": [
    " Conforme observado visualmente no gráfico de número de empregados e desempregados por nível de escolaridade, e confirmado pelo teste Qui-quadrado (statistic < p-value), o grau de escolaridade NÃO influencia na empregabilidade, sendo assim, devemos aceitar a hipótese H0."
   ]
  }
 ],
 "metadata": {
  "kernelspec": {
   "display_name": "Python 3",
   "language": "python",
   "name": "python3"
  },
  "language_info": {
   "codemirror_mode": {
    "name": "ipython",
    "version": 3
   },
   "file_extension": ".py",
   "mimetype": "text/x-python",
   "name": "python",
   "nbconvert_exporter": "python",
   "pygments_lexer": "ipython3",
   "version": "3.7.3"
  }
 },
 "nbformat": 4,
 "nbformat_minor": 2
}
